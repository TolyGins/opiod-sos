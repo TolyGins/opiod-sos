{
 "cells": [
  {
   "cell_type": "markdown",
   "metadata": {},
   "source": [
    "### Libraries"
   ]
  },
  {
   "cell_type": "code",
   "execution_count": 32,
   "metadata": {
    "collapsed": true,
    "deletable": true,
    "editable": true
   },
   "outputs": [],
   "source": [
    "import pandas as pd\n",
    "import folium\n",
    "import geopy.distance\n",
    "import requests\n",
    "import json \n",
    "from pandas.io.json import json_normalize\n",
    "from shapely.geometry import Point\n",
    "from shapely.geometry.polygon import Polygon\n",
    "import matplotlib.pyplot as plt\n",
    "import numpy as np\n",
    "import os, base64, io\n",
    "from folium.features import CustomIcon\n",
    "import geopy.distance\n",
    "from matplotlib.pyplot import figure"
   ]
  },
  {
   "cell_type": "markdown",
   "metadata": {
    "deletable": true,
    "editable": true
   },
   "source": [
    "### Data"
   ]
  },
  {
   "cell_type": "code",
   "execution_count": 5,
   "metadata": {
    "collapsed": false,
    "deletable": true,
    "editable": true
   },
   "outputs": [],
   "source": [
    "data = pd.read_csv('Denver_Crime_with_Address_Recent.csv')\n",
    "\n",
    "data_crime = data[(data.OFFENSE_CATEGORY_ID=='drug-alcohol') & (~(data.OFFENSE_TYPE_ID.str.startswith('drug-marijuana-possess') |data.OFFENSE_TYPE_ID.str.startswith('drug-marijuana-sell') |\n",
    "                                                                data.OFFENSE_TYPE_ID.str.startswith('drug-marijuana-cultivation')\n",
    "                                                           ))]\n",
    "\n",
    "data_clinics = pd.read_csv('SAMSHA_Colorado_Substance_Abuse_and_Mental_Health_Service_Providers_Denver.csv')\n",
    "\n",
    "data_clinics_1 = data_clinics[((data_clinics.City=='Denver')| (data_clinics.City=='Aurora')) & (data_clinics.Type_.str.startswith ('Substance abuse treatment') | data_clinics.Type_.str.startswith ('Detox') )\n",
    "                                                            & (~data_clinics['Opiod_Treatment_Settings'].astype(str).str.startswith('Does not treat opioid addiction'))   \n",
    "                             ]\n",
    "                             \n",
    "    \n",
    "census = pd.read_csv('census_neighborhood_demographics_2010.csv')\n",
    "\n",
    "census_1 = census[['NBHD_ID', 'NBRHD_NAME', 'POPULATION_2010', 'PCT_HISPANIC', 'PCT_BLACK', 'PCT_WHITE',\n",
    "             'PCT_OTHER_RACE', 'PCT_HISPANIC', 'OCCUPIED_HU', 'VACANT_HU', 'HOUSING_UNITS', 'OCCUPIED_HU',\n",
    "                  'OWNED_W_MORTG_LOAN', 'OWNED_FREE_CLEAR', 'RENTED', 'MALE', 'FEMALE']]\n",
    "\n",
    "naloxone = pd.read_excel('ArcGIS Naloxone Distribution  Centers - Data.xlsx', skipinitialspace=True)\n",
    "naloxone.columns = naloxone.columns.str.strip()\n",
    "naloxone_trimmed = naloxone.apply(lambda x: x.str.strip() if x.dtype == \"object\" else x)\n",
    "naloxone_trimmed['municipality']= naloxone_trimmed['municipality'].apply(lambda x: 'Denver' if x.lower()=='denver'else x)\n",
    "naloxone_1 = naloxone_trimmed[(naloxone_trimmed.municipality=='Denver')]\n",
    "\n",
    "string_object = open('Denver Statistical Neighborhoods.geojson', 'r').read()"
   ]
  },
  {
   "cell_type": "markdown",
   "metadata": {
    "deletable": true,
    "editable": true
   },
   "source": [
    "### Convert Address to Lat and Long Using API"
   ]
  },
  {
   "cell_type": "code",
   "execution_count": 8,
   "metadata": {
    "collapsed": false,
    "deletable": true,
    "editable": true
   },
   "outputs": [
    {
     "data": {
      "text/html": [
       "<div>\n",
       "<style>\n",
       "    .dataframe thead tr:only-child th {\n",
       "        text-align: right;\n",
       "    }\n",
       "\n",
       "    .dataframe thead th {\n",
       "        text-align: left;\n",
       "    }\n",
       "\n",
       "    .dataframe tbody tr th {\n",
       "        vertical-align: top;\n",
       "    }\n",
       "</style>\n",
       "<table border=\"1\" class=\"dataframe\">\n",
       "  <thead>\n",
       "    <tr style=\"text-align: right;\">\n",
       "      <th></th>\n",
       "      <th>objectid</th>\n",
       "      <th>name</th>\n",
       "      <th>municipality</th>\n",
       "      <th>phone</th>\n",
       "      <th>agencyurl</th>\n",
       "      <th>operdays</th>\n",
       "      <th>operhours</th>\n",
       "      <th>pocname</th>\n",
       "      <th>pocphone</th>\n",
       "      <th>pocemail</th>\n",
       "      <th>comments</th>\n",
       "      <th>x</th>\n",
       "      <th>y</th>\n",
       "      <th>fulladdr</th>\n",
       "    </tr>\n",
       "  </thead>\n",
       "  <tbody>\n",
       "    <tr>\n",
       "      <th>18</th>\n",
       "      <td>24</td>\n",
       "      <td>Albertsons/Safeway Pharmacy</td>\n",
       "      <td>Denver</td>\n",
       "      <td>null</td>\n",
       "      <td>null</td>\n",
       "      <td>null</td>\n",
       "      <td>null</td>\n",
       "      <td>null</td>\n",
       "      <td>null</td>\n",
       "      <td>Lisa Raville</td>\n",
       "      <td>Albertsons/Safeway Pharmacy\\r\\r\\n\\r\\r\\n323 Sou...</td>\n",
       "      <td>-1.168731e+07</td>\n",
       "      <td>4.823972e+06</td>\n",
       "      <td>323 South Broadway, Denver, CO, United States</td>\n",
       "    </tr>\n",
       "    <tr>\n",
       "      <th>24</th>\n",
       "      <td>30</td>\n",
       "      <td>Albertsons/Safeway Pharmacy</td>\n",
       "      <td>Denver</td>\n",
       "      <td>null</td>\n",
       "      <td>null</td>\n",
       "      <td>null</td>\n",
       "      <td>null</td>\n",
       "      <td>null</td>\n",
       "      <td>null</td>\n",
       "      <td>Lisa Raville</td>\n",
       "      <td>Albertsons/Safeway Pharmacy\\r\\r\\n\\r\\r\\n1653 S ...</td>\n",
       "      <td>-1.168212e+07</td>\n",
       "      <td>4.820571e+06</td>\n",
       "      <td>1653 S Colorado Blvd, Denver, CO, United States</td>\n",
       "    </tr>\n",
       "    <tr>\n",
       "      <th>29</th>\n",
       "      <td>35</td>\n",
       "      <td>Albertsons/Safeway Pharmacy</td>\n",
       "      <td>Denver</td>\n",
       "      <td>null</td>\n",
       "      <td>null</td>\n",
       "      <td>null</td>\n",
       "      <td>null</td>\n",
       "      <td>null</td>\n",
       "      <td>null</td>\n",
       "      <td>Lisa Raville</td>\n",
       "      <td>Albertsons/Safeway Pharmacy \\r\\r\\n\\r\\r\\n2660 F...</td>\n",
       "      <td>-1.169126e+07</td>\n",
       "      <td>4.830456e+06</td>\n",
       "      <td>2660 Federal Boulevard, Denver, CO, United States</td>\n",
       "    </tr>\n",
       "    <tr>\n",
       "      <th>30</th>\n",
       "      <td>36</td>\n",
       "      <td>Albertsons/Safeway Pharmacy</td>\n",
       "      <td>Denver</td>\n",
       "      <td>null</td>\n",
       "      <td>null</td>\n",
       "      <td>null</td>\n",
       "      <td>null</td>\n",
       "      <td>null</td>\n",
       "      <td>null</td>\n",
       "      <td>Lisa Raville</td>\n",
       "      <td>Albertsons/Safeway Pharmacy\\r\\r\\n\\r\\r\\n6460 E ...</td>\n",
       "      <td>-1.167894e+07</td>\n",
       "      <td>4.817529e+06</td>\n",
       "      <td>6460 E Yale Ave, Denver, CO, United States</td>\n",
       "    </tr>\n",
       "    <tr>\n",
       "      <th>34</th>\n",
       "      <td>40</td>\n",
       "      <td>Albertsons/Safeway Pharmacy</td>\n",
       "      <td>Denver</td>\n",
       "      <td>null</td>\n",
       "      <td>null</td>\n",
       "      <td>null</td>\n",
       "      <td>null</td>\n",
       "      <td>null</td>\n",
       "      <td>null</td>\n",
       "      <td>Lisa Raville</td>\n",
       "      <td>Albertsons/Safeway Pharmacy \\r\\r\\n\\r\\r\\n2150 S...</td>\n",
       "      <td>-1.168544e+07</td>\n",
       "      <td>4.819181e+06</td>\n",
       "      <td>2150 S Downing St, Denver, CO, United States</td>\n",
       "    </tr>\n",
       "  </tbody>\n",
       "</table>\n",
       "</div>"
      ],
      "text/plain": [
       "    objectid                         name municipality phone agencyurl  \\\n",
       "18        24  Albertsons/Safeway Pharmacy       Denver  null      null   \n",
       "24        30  Albertsons/Safeway Pharmacy       Denver  null      null   \n",
       "29        35  Albertsons/Safeway Pharmacy       Denver  null      null   \n",
       "30        36  Albertsons/Safeway Pharmacy       Denver  null      null   \n",
       "34        40  Albertsons/Safeway Pharmacy       Denver  null      null   \n",
       "\n",
       "   operdays operhours pocname pocphone      pocemail  \\\n",
       "18     null      null    null     null  Lisa Raville   \n",
       "24     null      null    null     null  Lisa Raville   \n",
       "29     null      null    null     null  Lisa Raville   \n",
       "30     null      null    null     null  Lisa Raville   \n",
       "34     null      null    null     null  Lisa Raville   \n",
       "\n",
       "                                             comments             x  \\\n",
       "18  Albertsons/Safeway Pharmacy\\r\\r\\n\\r\\r\\n323 Sou... -1.168731e+07   \n",
       "24  Albertsons/Safeway Pharmacy\\r\\r\\n\\r\\r\\n1653 S ... -1.168212e+07   \n",
       "29  Albertsons/Safeway Pharmacy \\r\\r\\n\\r\\r\\n2660 F... -1.169126e+07   \n",
       "30  Albertsons/Safeway Pharmacy\\r\\r\\n\\r\\r\\n6460 E ... -1.167894e+07   \n",
       "34  Albertsons/Safeway Pharmacy \\r\\r\\n\\r\\r\\n2150 S... -1.168544e+07   \n",
       "\n",
       "               y                                           fulladdr  \n",
       "18  4.823972e+06      323 South Broadway, Denver, CO, United States  \n",
       "24  4.820571e+06    1653 S Colorado Blvd, Denver, CO, United States  \n",
       "29  4.830456e+06  2660 Federal Boulevard, Denver, CO, United States  \n",
       "30  4.817529e+06         6460 E Yale Ave, Denver, CO, United States  \n",
       "34  4.819181e+06       2150 S Downing St, Denver, CO, United States  "
      ]
     },
     "execution_count": 8,
     "metadata": {},
     "output_type": "execute_result"
    }
   ],
   "source": [
    "naloxone_1.head()"
   ]
  },
  {
   "cell_type": "code",
   "execution_count": 9,
   "metadata": {
    "collapsed": false,
    "deletable": true,
    "editable": true
   },
   "outputs": [],
   "source": [
    "mapquest_key = 'GEEAb28nEwLa40IsC7DPjmVhxztOnYOr'\n",
    "prv_key ='QAa0JisnNEerXNLX'\n",
    "\n",
    "\n",
    "lng_nal = []\n",
    "\n",
    "lat_nal = []\n",
    "\n",
    "def convert(address):\n",
    "    converted = address.replace(\" \", '+')\n",
    "    converted = converted.replace(\"# \", \"\")\n",
    "    converted = converted.replace(\"#\",\"\")\n",
    "    return converted\n",
    "\n",
    "clean_address = filter(lambda x:  x != 'None', naloxone_1['fulladdr'])\n",
    "\n",
    "for address in clean_address:\n",
    "    #print address\n",
    "    clean = convert(address)\n",
    "    results = requests.get('https://www.mapquestapi.com/geocoding/v1/address?key={}&inFormat=kvp&outFormat=json&location={}+Denver%2C+CO&thumbMaps=false'.format(mapquest_key,clean)\n",
    "                      )\n",
    "    results = results.json()\n",
    "    lat_long = results['results'][0]['locations'][0]['displayLatLng']\n",
    "    #print lat_long\n",
    "    # append lat long to list\n",
    "    lng_nal.append(lat_long['lng'])\n",
    "    lat_nal.append(lat_long['lat'])\n",
    "    "
   ]
  },
  {
   "cell_type": "code",
   "execution_count": 10,
   "metadata": {
    "collapsed": false,
    "deletable": true,
    "editable": true
   },
   "outputs": [
    {
     "data": {
      "text/plain": [
       "89"
      ]
     },
     "execution_count": 10,
     "metadata": {},
     "output_type": "execute_result"
    }
   ],
   "source": [
    "len(lng_nal)"
   ]
  },
  {
   "cell_type": "markdown",
   "metadata": {
    "deletable": true,
    "editable": true
   },
   "source": [
    "### Coordinates"
   ]
  },
  {
   "cell_type": "code",
   "execution_count": 11,
   "metadata": {
    "collapsed": true,
    "deletable": true,
    "editable": true
   },
   "outputs": [],
   "source": [
    "crime_lat = data_crime['GEO_LAT']\n",
    "crime_lng = data_crime['GEO_LON']\n",
    "#crime_test = data_crime[['GEO_LAT','GEO_LON']]\n",
    "crime_lng_lat = [(ln,lt) for ln, lt in zip(crime_lng,crime_lat)]\n",
    "\n",
    "clinic_lat = data_clinics_1['Y']\n",
    "clinic_long = data_clinics_1['X']\n",
    "clinic_lng_lat = [(ln,lt) for ln, lt in zip(clinic_long,clinic_lat)]"
   ]
  },
  {
   "cell_type": "code",
   "execution_count": 12,
   "metadata": {
    "collapsed": false,
    "deletable": true,
    "editable": true
   },
   "outputs": [
    {
     "data": {
      "text/plain": [
       "1675"
      ]
     },
     "execution_count": 12,
     "metadata": {},
     "output_type": "execute_result"
    }
   ],
   "source": [
    "len(crime_lat)"
   ]
  },
  {
   "cell_type": "markdown",
   "metadata": {
    "collapsed": false,
    "deletable": true,
    "editable": true
   },
   "source": [
    "### Denver Neighborhood Polygons convert to df"
   ]
  },
  {
   "cell_type": "code",
   "execution_count": 23,
   "metadata": {
    "collapsed": false,
    "deletable": true,
    "editable": true
   },
   "outputs": [],
   "source": [
    "json_object = json.loads(string_object)\n",
    "\n",
    "df = json_normalize(json_object[\"features\"])"
   ]
  },
  {
   "cell_type": "code",
   "execution_count": 24,
   "metadata": {
    "collapsed": false,
    "deletable": true,
    "editable": true
   },
   "outputs": [],
   "source": [
    "coords = 'geometry.coordinates'\n",
    "\n",
    "df2 = (df[coords].apply(lambda r: [(i[0][0],i[1][1]) for i in r[0]])\n",
    "           .apply(pd.Series).stack()\n",
    "           .reset_index(level=1).rename(columns={0:coords,\"level_1\":\"point\"})\n",
    "           .join(df.drop(coords,1), how='left')).reset_index(level=0)\n",
    "\n",
    "df2[['lat','long']] = df2[coords].apply(pd.Series)"
   ]
  },
  {
   "cell_type": "markdown",
   "metadata": {
    "deletable": true,
    "editable": true
   },
   "source": [
    "### Update Neighborhoods with Crime Data"
   ]
  },
  {
   "cell_type": "code",
   "execution_count": 26,
   "metadata": {
    "collapsed": false,
    "deletable": true,
    "editable": true,
    "scrolled": true
   },
   "outputs": [],
   "source": [
    "coord_dict ={}\n",
    "\n",
    "crime_dict = {}\n",
    "\n",
    "clinic_dict ={}\n",
    "\n",
    "denver_neighberhoods = df['properties.nbhd_name'].unique()\n",
    "\n",
    "\n",
    "# init dicts\n",
    "for each in denver_neighberhoods:\n",
    "    crime_dict[each]=0\n",
    "    clinic_dict[each]=0\n",
    "    coord_dict[each] = list(df['geometry.coordinates'][(df['properties.nbhd_name']==each)])[0][0][0]\n",
    "    \n",
    "def contains(list_of_coor, point):\n",
    "    pnt,poly= Point(point),Polygon(list_of_coor)\n",
    "    return poly.contains(pnt)\n",
    "\n",
    "#test =[[-106.941313, 40.739151],[-105.041313, 39.739151], [-104.941313, 39.739151],[-105.041313, 39.739151]]\n",
    "\n",
    "## Update Crime\n",
    "for point in crime_lng_lat:\n",
    "    for n in denver_neighberhoods:\n",
    "        if contains(coord_dict[n], point):\n",
    "            crime_dict[n] +=1\n",
    "            break\n",
    "            \n",
    "# Update\n",
    "clinic_to_neighborhood = []\n",
    "for pnt in clinic_lng_lat:\n",
    "    #print pnt\n",
    "    for n in denver_neighberhoods:\n",
    "        #print n\n",
    "        if contains(coord_dict[n], pnt):\n",
    "            clinic_dict[n] +=1\n",
    "            clinic_to_neighborhood.append(n)\n",
    "            break\n",
    "    else: \n",
    "        clinic_to_neighborhood.append('None')"
   ]
  },
  {
   "cell_type": "markdown",
   "metadata": {
    "deletable": true,
    "editable": true
   },
   "source": [
    "### Determine Cutoff Based on Distribution"
   ]
  },
  {
   "cell_type": "code",
   "execution_count": 27,
   "metadata": {
    "collapsed": false,
    "deletable": true,
    "editable": true
   },
   "outputs": [
    {
     "data": {
      "text/plain": [
       "168"
      ]
     },
     "execution_count": 27,
     "metadata": {},
     "output_type": "execute_result"
    }
   ],
   "source": [
    "crime_dict['Capitol Hill']"
   ]
  },
  {
   "cell_type": "code",
   "execution_count": 29,
   "metadata": {
    "collapsed": false,
    "deletable": true,
    "editable": true
   },
   "outputs": [
    {
     "data": {
      "image/png": "[encoded data removed]",
      "text/plain": [
       "<matplotlib.figure.Figure at 0x12414c150>"
      ]
     },
     "metadata": {},
     "output_type": "display_data"
    }
   ],
   "source": [
    "lst = crime_dict.values()\n",
    "\n",
    "plt.hist(lst,bins=range(min(lst), max(lst) ))\n",
    "plt.show()\n",
    "\n",
    "# use 50 +, 25-50, 0-30"
   ]
  },
  {
   "cell_type": "markdown",
   "metadata": {
    "deletable": true,
    "editable": true
   },
   "source": [
    "### Group Neighborhoods Based on Cutoffs"
   ]
  },
  {
   "cell_type": "code",
   "execution_count": 30,
   "metadata": {
    "collapsed": true,
    "deletable": true,
    "editable": true
   },
   "outputs": [],
   "source": [
    "low = {k: v for k, v in crime_dict.iteritems() if v < 20}\n",
    "mid = {k: v for k, v in crime_dict.iteritems() if v < 50 and v >= 20}\n",
    "high ={k: v for k, v in crime_dict.iteritems() if v >= 50}"
   ]
  },
  {
   "cell_type": "markdown",
   "metadata": {
    "deletable": true,
    "editable": true
   },
   "source": [
    "### Plot on Map"
   ]
  },
  {
   "cell_type": "code",
   "execution_count": 31,
   "metadata": {
    "collapsed": false,
    "deletable": true,
    "editable": true,
    "scrolled": true
   },
   "outputs": [],
   "source": [
    "map = folium.Map(location=[39.7392, -104.9903], zoom_start=12)\n",
    "fga = folium.FeatureGroup(name=\"Drug_Arrest\")\n",
    "fgm = folium.FeatureGroup(name = 'Drug Abuse Clinic')\n",
    "\n",
    "\n",
    "\n",
    "# add crime points\n",
    "for lt, lon in zip(crime_lat, crime_lng):\n",
    "    fga.add_child(folium.CircleMarker([lt, lon], radius = 8,  popup = \"Crime Arrest\", color=\"red\"))\n",
    "\n",
    "# add clinics\n",
    "for lt, lon in zip(clinic_lat, clinic_long):\n",
    "    icon_url = 'data:image/png;base64,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'\n",
    "    icon_a = CustomIcon(\n",
    "    icon_url,\n",
    "    icon_size=(15, 15),\n",
    "    )\n",
    "    fgm.add_child(folium.Marker([lt, lon], popup= 'Drug Abuse Clinic', icon = icon_a ))\n",
    "\n",
    "# add naloxone\n",
    "for lt, lon in zip(lat_nal, lng_nal):\n",
    "    icon2_url = 'data:image/png;base64,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'\n",
    "    icon_b = CustomIcon(\n",
    "    icon2_url,\n",
    "    icon_size=(15, 15),\n",
    "    )\n",
    "    fgm.add_child(folium.Marker([lt, lon], popup= 'Naloxone', icon = icon_b ))\n",
    "\n",
    "    \n",
    "#add neighborhoods\n",
    "fgn = folium.FeatureGroup(name = 'Neighborhoods')\n",
    "\n",
    "fgn.add_child(folium.GeoJson(data= open('Denver Statistical Neighborhoods.geojson', 'r').read(),\n",
    "                            style_function=lambda x: {'fillColor':'red' if x['properties']['nbhd_name']in high\n",
    "                            else 'orange' if x['properties']['nbhd_name']in mid\n",
    "                            else 'green'}))\n",
    "\n",
    "\n",
    "map.add_child(fga)\n",
    "map.add_child(fgn)\n",
    "map.add_child(fgm)\n",
    "map.add_child(folium.LayerControl())\n",
    "map.save(\"Map_Drug_Final.html\")"
   ]
  },
  {
   "cell_type": "markdown",
   "metadata": {
    "collapsed": true,
    "deletable": true,
    "editable": true
   },
   "source": [
    "### Combine Datasets with Census"
   ]
  },
  {
   "cell_type": "code",
   "execution_count": 539,
   "metadata": {
    "collapsed": false,
    "deletable": true,
    "editable": true
   },
   "outputs": [],
   "source": [
    "crime_df = pd.DataFrame.from_dict(data=crime_dict, orient='index')\n",
    "crime_df['drug_crime_values']= crime_df[0] \n",
    "clinic_df = pd.DataFrame.from_dict(data=clinic_dict, orient='index')\n",
    "clinic_df['clinic_count_values'] = clinic_df[0]\n"
   ]
  },
  {
   "cell_type": "code",
   "execution_count": 543,
   "metadata": {
    "collapsed": false,
    "deletable": true,
    "editable": true
   },
   "outputs": [],
   "source": [
    "combined = census_1.set_index('NBRHD_NAME').join(crime_df)\n",
    "combined_1 = combined.join(clinic_df, lsuffix='_combined', rsuffix='_clinic_df')\n",
    "combined_2 =  combined_1.loc[:, combined_1.columns != '0_combined' ]\n",
    "combined_2 = combined_2.drop('0_clinic_df', axis=1)\n",
    "combined_2.to_csv(index_label = \"Denver_Neighborhoods\", path_or_buf='combined_2.csv')"
   ]
  },
  {
   "cell_type": "code",
   "execution_count": 541,
   "metadata": {
    "collapsed": false,
    "deletable": true,
    "editable": true
   },
   "outputs": [
    {
     "data": {
      "text/html": [
       "<div>\n",
       "<style>\n",
       "    .dataframe thead tr:only-child th {\n",
       "        text-align: right;\n",
       "    }\n",
       "\n",
       "    .dataframe thead th {\n",
       "        text-align: left;\n",
       "    }\n",
       "\n",
       "    .dataframe tbody tr th {\n",
       "        vertical-align: top;\n",
       "    }\n",
       "</style>\n",
       "<table border=\"1\" class=\"dataframe\">\n",
       "  <thead>\n",
       "    <tr style=\"text-align: right;\">\n",
       "      <th></th>\n",
       "      <th>NBHD_ID</th>\n",
       "      <th>POPULATION_2010</th>\n",
       "      <th>HISPANIC_2010</th>\n",
       "      <th>WHITE_2010</th>\n",
       "      <th>BLACK_2010</th>\n",
       "      <th>NATIVEAM_2010</th>\n",
       "      <th>ASIAN_2010</th>\n",
       "      <th>HAWPACIS_2010</th>\n",
       "      <th>OTHER_2010</th>\n",
       "      <th>TWO_OR_MORE_2010</th>\n",
       "      <th>...</th>\n",
       "      <th>RENTED_AGE_45_TO_54</th>\n",
       "      <th>RENTED_AGE_55_TO_59</th>\n",
       "      <th>RENTED_AGE_60_TO_64</th>\n",
       "      <th>RENTED_AGE_65_TO_74</th>\n",
       "      <th>RENTED_AGE_75_TO_84</th>\n",
       "      <th>RENTED_AGE_85_PLUS</th>\n",
       "      <th>SHAPE_Length</th>\n",
       "      <th>SHAPE_Area</th>\n",
       "      <th>drug_crime_values</th>\n",
       "      <th>clinic_count_values</th>\n",
       "    </tr>\n",
       "    <tr>\n",
       "      <th>NBRHD_NAME</th>\n",
       "      <th></th>\n",
       "      <th></th>\n",
       "      <th></th>\n",
       "      <th></th>\n",
       "      <th></th>\n",
       "      <th></th>\n",
       "      <th></th>\n",
       "      <th></th>\n",
       "      <th></th>\n",
       "      <th></th>\n",
       "      <th></th>\n",
       "      <th></th>\n",
       "      <th></th>\n",
       "      <th></th>\n",
       "      <th></th>\n",
       "      <th></th>\n",
       "      <th></th>\n",
       "      <th></th>\n",
       "      <th></th>\n",
       "      <th></th>\n",
       "      <th></th>\n",
       "    </tr>\n",
       "  </thead>\n",
       "  <tbody>\n",
       "    <tr>\n",
       "      <th>Hampden</th>\n",
       "      <td>32</td>\n",
       "      <td>17547</td>\n",
       "      <td>2505</td>\n",
       "      <td>11750</td>\n",
       "      <td>1963</td>\n",
       "      <td>64</td>\n",
       "      <td>726</td>\n",
       "      <td>20</td>\n",
       "      <td>38</td>\n",
       "      <td>481</td>\n",
       "      <td>...</td>\n",
       "      <td>700</td>\n",
       "      <td>304</td>\n",
       "      <td>253</td>\n",
       "      <td>285</td>\n",
       "      <td>200</td>\n",
       "      <td>229</td>\n",
       "      <td>0.200466</td>\n",
       "      <td>0.000768</td>\n",
       "      <td>12.0</td>\n",
       "      <td>2.0</td>\n",
       "    </tr>\n",
       "    <tr>\n",
       "      <th>Baker</th>\n",
       "      <td>3</td>\n",
       "      <td>4879</td>\n",
       "      <td>1664</td>\n",
       "      <td>2854</td>\n",
       "      <td>144</td>\n",
       "      <td>43</td>\n",
       "      <td>52</td>\n",
       "      <td>10</td>\n",
       "      <td>7</td>\n",
       "      <td>105</td>\n",
       "      <td>...</td>\n",
       "      <td>231</td>\n",
       "      <td>113</td>\n",
       "      <td>64</td>\n",
       "      <td>82</td>\n",
       "      <td>23</td>\n",
       "      <td>7</td>\n",
       "      <td>0.101767</td>\n",
       "      <td>0.000406</td>\n",
       "      <td>20.0</td>\n",
       "      <td>1.0</td>\n",
       "    </tr>\n",
       "    <tr>\n",
       "      <th>Washington Park</th>\n",
       "      <td>70</td>\n",
       "      <td>6905</td>\n",
       "      <td>295</td>\n",
       "      <td>6356</td>\n",
       "      <td>28</td>\n",
       "      <td>9</td>\n",
       "      <td>119</td>\n",
       "      <td>3</td>\n",
       "      <td>13</td>\n",
       "      <td>82</td>\n",
       "      <td>...</td>\n",
       "      <td>70</td>\n",
       "      <td>31</td>\n",
       "      <td>36</td>\n",
       "      <td>27</td>\n",
       "      <td>6</td>\n",
       "      <td>21</td>\n",
       "      <td>0.090445</td>\n",
       "      <td>0.000411</td>\n",
       "      <td>1.0</td>\n",
       "      <td>0.0</td>\n",
       "    </tr>\n",
       "    <tr>\n",
       "      <th>Cherry Creek</th>\n",
       "      <td>13</td>\n",
       "      <td>5589</td>\n",
       "      <td>332</td>\n",
       "      <td>4896</td>\n",
       "      <td>79</td>\n",
       "      <td>17</td>\n",
       "      <td>168</td>\n",
       "      <td>4</td>\n",
       "      <td>3</td>\n",
       "      <td>90</td>\n",
       "      <td>...</td>\n",
       "      <td>211</td>\n",
       "      <td>79</td>\n",
       "      <td>92</td>\n",
       "      <td>161</td>\n",
       "      <td>224</td>\n",
       "      <td>207</td>\n",
       "      <td>0.063923</td>\n",
       "      <td>0.000228</td>\n",
       "      <td>12.0</td>\n",
       "      <td>0.0</td>\n",
       "    </tr>\n",
       "    <tr>\n",
       "      <th>Country Club</th>\n",
       "      <td>22</td>\n",
       "      <td>3001</td>\n",
       "      <td>94</td>\n",
       "      <td>2740</td>\n",
       "      <td>20</td>\n",
       "      <td>8</td>\n",
       "      <td>77</td>\n",
       "      <td>1</td>\n",
       "      <td>5</td>\n",
       "      <td>56</td>\n",
       "      <td>...</td>\n",
       "      <td>34</td>\n",
       "      <td>14</td>\n",
       "      <td>17</td>\n",
       "      <td>9</td>\n",
       "      <td>4</td>\n",
       "      <td>2</td>\n",
       "      <td>0.052865</td>\n",
       "      <td>0.000177</td>\n",
       "      <td>1.0</td>\n",
       "      <td>0.0</td>\n",
       "    </tr>\n",
       "  </tbody>\n",
       "</table>\n",
       "<p>5 rows × 128 columns</p>\n",
       "</div>"
      ],
      "text/plain": [
       "                 NBHD_ID  POPULATION_2010  HISPANIC_2010  WHITE_2010  \\\n",
       "NBRHD_NAME                                                             \n",
       "Hampden               32            17547           2505       11750   \n",
       "Baker                  3             4879           1664        2854   \n",
       "Washington Park       70             6905            295        6356   \n",
       "Cherry Creek          13             5589            332        4896   \n",
       "Country Club          22             3001             94        2740   \n",
       "\n",
       "                 BLACK_2010  NATIVEAM_2010  ASIAN_2010  HAWPACIS_2010  \\\n",
       "NBRHD_NAME                                                              \n",
       "Hampden                1963             64         726             20   \n",
       "Baker                   144             43          52             10   \n",
       "Washington Park          28              9         119              3   \n",
       "Cherry Creek             79             17         168              4   \n",
       "Country Club             20              8          77              1   \n",
       "\n",
       "                 OTHER_2010  TWO_OR_MORE_2010         ...           \\\n",
       "NBRHD_NAME                                            ...            \n",
       "Hampden                  38               481         ...            \n",
       "Baker                     7               105         ...            \n",
       "Washington Park          13                82         ...            \n",
       "Cherry Creek              3                90         ...            \n",
       "Country Club              5                56         ...            \n",
       "\n",
       "                 RENTED_AGE_45_TO_54  RENTED_AGE_55_TO_59  \\\n",
       "NBRHD_NAME                                                  \n",
       "Hampden                          700                  304   \n",
       "Baker                            231                  113   \n",
       "Washington Park                   70                   31   \n",
       "Cherry Creek                     211                   79   \n",
       "Country Club                      34                   14   \n",
       "\n",
       "                 RENTED_AGE_60_TO_64  RENTED_AGE_65_TO_74  \\\n",
       "NBRHD_NAME                                                  \n",
       "Hampden                          253                  285   \n",
       "Baker                             64                   82   \n",
       "Washington Park                   36                   27   \n",
       "Cherry Creek                      92                  161   \n",
       "Country Club                      17                    9   \n",
       "\n",
       "                 RENTED_AGE_75_TO_84  RENTED_AGE_85_PLUS  SHAPE_Length  \\\n",
       "NBRHD_NAME                                                               \n",
       "Hampden                          200                 229      0.200466   \n",
       "Baker                             23                   7      0.101767   \n",
       "Washington Park                    6                  21      0.090445   \n",
       "Cherry Creek                     224                 207      0.063923   \n",
       "Country Club                       4                   2      0.052865   \n",
       "\n",
       "                 SHAPE_Area  drug_crime_values  clinic_count_values  \n",
       "NBRHD_NAME                                                           \n",
       "Hampden            0.000768               12.0                  2.0  \n",
       "Baker              0.000406               20.0                  1.0  \n",
       "Washington Park    0.000411                1.0                  0.0  \n",
       "Cherry Creek       0.000228               12.0                  0.0  \n",
       "Country Club       0.000177                1.0                  0.0  \n",
       "\n",
       "[5 rows x 128 columns]"
      ]
     },
     "execution_count": 541,
     "metadata": {},
     "output_type": "execute_result"
    }
   ],
   "source": [
    "pd.to_csv"
   ]
  },
  {
   "cell_type": "markdown",
   "metadata": {
    "deletable": true,
    "editable": true
   },
   "source": [
    "### Average Distance to Rehab Clinic"
   ]
  },
  {
   "cell_type": "code",
   "execution_count": 906,
   "metadata": {
    "collapsed": false,
    "deletable": true,
    "editable": true
   },
   "outputs": [
    {
     "name": "stdout",
     "output_type": "stream",
     "text": [
      " {u'Civic Center': 0.34940874794651366, u'Capitol Hill': 0.6011255505811838, u'Stapleton': 2.24389865997737, u'Sunnyside': 0.8839035658616471, u'Baker': 1.0073104654654035, u'Cheesman Park': 0.5229273560665237, u'Five Points': 0.9213597169431318, u'West Colfax': 1.0925577540884945, u'Ruby Hill': 1.1867459010698984, u'Westwood': 0.7157177821892106, u'Washington Virginia Vale': 0.7806079054314923}\n",
      "--------------------\n",
      "City Park West (u'Cheesman Park', 13, 0.5184938040485806) 6.863163507010476\n",
      "Lincoln Park (u'Civic Center', 42, 0.7134615989095179) 8.863228309699371\n",
      "Jefferson Park (u'West Colfax', 28, 0.6412367000097997) 9.393857657890285\n",
      "Athmar Park (u'Baker', 21, 1.4291731842303006) 9.806165477198128\n",
      "North Capitol Hill (u'Five Points', 52, 0.5645942360211532) 7.633298757050895\n",
      "Mar Lee (u'Ruby Hill', 3, 0.8835347056932201) 11.779294886347973\n",
      "Villa Park (u'Sun Valley', 38, 0.9510486848247609) 10.820956868383591\n",
      "CBD (u'Civic Center', 42, 0.6510274088287111) 8.310290858585297\n",
      "Barnum (u'Westwood', 27, 1.198883142709472) 10.674238840377564\n",
      "Montbello (u'Stapleton', 35, 1.4146816567563436) 1.4146816567563436\n",
      "East Colfax (u'Montclair', 15, 1.1409947613003604) 3.569138057834036\n"
     ]
    }
   ],
   "source": [
    "distance_dict = {}\n",
    "\n",
    "at_risk_neighborhoods = {key for key in mid.iterkeys()}\n",
    "at_risk_neighborhoods.update(high)\n",
    "\n",
    "def search(data):\n",
    "    for n in at_risk_neighborhoods:\n",
    "        if contains(coord_dict[n], data):\n",
    "            return n, coord_dict[n]\n",
    "            break\n",
    "\n",
    "def convert (point_1, point_2):\n",
    "    return geopy.distance.vincenty(point_1[::-1], point_2[::-1]).miles\n",
    "\n",
    "def average_distance (num, coord):\n",
    "    lng = np.array([each[0] for each in coord])\n",
    "    lat =  np.array([each[1] for each in coord])\n",
    "    #lng_err = abs (num[0] - lng)\n",
    "    #lat_err = abs (num[1] - lat)\n",
    "    error = np.array([convert(num, each) for each in coord])\n",
    "    #lng_avg = sum (lng_err) / len(lng_err) \n",
    "    #lat_avg = sum (lat_err) / len(lat_err) \n",
    "    return sum(error)/len(error) # need to check to confirm this is right\n",
    "\n",
    "\n",
    "def search_closest_neighborhood (point):\n",
    "    #n_dict = {}\n",
    "    lst_test = []\n",
    "    for n in clinic_to_neighborhood:\n",
    "        #n_dict[n] = average_distance(point, coord_dict[n])\n",
    "        lst_test.append(average_distance(point, coord_dict[n]))\n",
    "    minimum_indx = np.argmin (np.array(lst_test))\n",
    "    minim = np.min(np.array(lst_test))\n",
    "    return clinic_to_neighborhood[minimum_indx],minimum_indx,  minim, lst_test\n",
    "\n",
    "def search_closest_point (neighborhood):\n",
    "    lst_test =[]\n",
    "    for point in clinic_lng_lat:\n",
    "        lst_test.append(average_distance(point, coord_dict[neighborhood]))\n",
    "    minimum_indx = np.argmin (np.array(lst_test))\n",
    "    minim = np.min(np.array(lst_test))\n",
    "    return clinic_to_neighborhood[minimum_indx],minimum_indx,  minim, lst_test     \n",
    "\n",
    "\n",
    "\n",
    "# iterate through all clinics\n",
    "for pnt in clinic_lng_lat:\n",
    "    if type (search(pnt))==tuple:\n",
    "        distance_dict[search(pnt)[0]] =  average_distance(pnt,search(pnt)[1])\n",
    "print distance_dict\n",
    "\n",
    "# for those neighborhoods that don't have clinics\n",
    "print '--------------------'\n",
    "for neigh in at_risk_neighborhoods:\n",
    "    if neigh not in distance_dict:\n",
    "        distance_dict[neigh] = search_closest_point(neigh)[2]\n",
    "        print neigh, search_closest_point(neigh)[0:3]"
   ]
  },
  {
   "cell_type": "code",
   "execution_count": 907,
   "metadata": {
    "collapsed": false,
    "deletable": true,
    "editable": true
   },
   "outputs": [
    {
     "data": {
      "text/plain": [
       "(-104.843365, 39.772209000000004)"
      ]
     },
     "execution_count": 907,
     "metadata": {},
     "output_type": "execute_result"
    }
   ],
   "source": [
    "clinic_lng_lat[35]"
   ]
  },
  {
   "cell_type": "markdown",
   "metadata": {
    "deletable": true,
    "editable": true
   },
   "source": [
    "### Convert to Distance"
   ]
  },
  {
   "cell_type": "code",
   "execution_count": 875,
   "metadata": {
    "collapsed": false,
    "deletable": true,
    "editable": true
   },
   "outputs": [
    {
     "name": "stdout",
     "output_type": "stream",
     "text": [
      "0.138307386525\n"
     ]
    }
   ],
   "source": [
    "coords_1 = ( 39.734123150387276, -105.03749867327836)\n",
    "coords_2 = (39.700074, -104.9110931380000001)\n",
    "\n",
    "print geopy.distance.vincenty(coords_1, coords_2).miles"
   ]
  },
  {
   "cell_type": "code",
   "execution_count": 897,
   "metadata": {
    "collapsed": false,
    "deletable": true,
    "editable": true
   },
   "outputs": [
    {
     "data": {
      "text/html": [
       "<div>\n",
       "<style>\n",
       "    .dataframe thead tr:only-child th {\n",
       "        text-align: right;\n",
       "    }\n",
       "\n",
       "    .dataframe thead th {\n",
       "        text-align: left;\n",
       "    }\n",
       "\n",
       "    .dataframe tbody tr th {\n",
       "        vertical-align: top;\n",
       "    }\n",
       "</style>\n",
       "<table border=\"1\" class=\"dataframe\">\n",
       "  <thead>\n",
       "    <tr style=\"text-align: right;\">\n",
       "      <th></th>\n",
       "      <th>0</th>\n",
       "    </tr>\n",
       "  </thead>\n",
       "  <tbody>\n",
       "    <tr>\n",
       "      <th>Sunnyside</th>\n",
       "      <td>0.883904</td>\n",
       "    </tr>\n",
       "    <tr>\n",
       "      <th>Cheesman Park</th>\n",
       "      <td>0.522927</td>\n",
       "    </tr>\n",
       "    <tr>\n",
       "      <th>Ruby Hill</th>\n",
       "      <td>1.186746</td>\n",
       "    </tr>\n",
       "    <tr>\n",
       "      <th>Jefferson Park</th>\n",
       "      <td>0.641237</td>\n",
       "    </tr>\n",
       "    <tr>\n",
       "      <th>Villa Park</th>\n",
       "      <td>0.951049</td>\n",
       "    </tr>\n",
       "    <tr>\n",
       "      <th>Barnum</th>\n",
       "      <td>1.198883</td>\n",
       "    </tr>\n",
       "    <tr>\n",
       "      <th>Montbello</th>\n",
       "      <td>1.414682</td>\n",
       "    </tr>\n",
       "    <tr>\n",
       "      <th>Stapleton</th>\n",
       "      <td>2.243899</td>\n",
       "    </tr>\n",
       "    <tr>\n",
       "      <th>East Colfax</th>\n",
       "      <td>1.140995</td>\n",
       "    </tr>\n",
       "    <tr>\n",
       "      <th>Five Points</th>\n",
       "      <td>0.921360</td>\n",
       "    </tr>\n",
       "    <tr>\n",
       "      <th>North Capitol Hill</th>\n",
       "      <td>0.564594</td>\n",
       "    </tr>\n",
       "    <tr>\n",
       "      <th>Washington Virginia Vale</th>\n",
       "      <td>0.780608</td>\n",
       "    </tr>\n",
       "    <tr>\n",
       "      <th>Mar Lee</th>\n",
       "      <td>0.883535</td>\n",
       "    </tr>\n",
       "    <tr>\n",
       "      <th>Baker</th>\n",
       "      <td>1.007310</td>\n",
       "    </tr>\n",
       "    <tr>\n",
       "      <th>West Colfax</th>\n",
       "      <td>1.092558</td>\n",
       "    </tr>\n",
       "    <tr>\n",
       "      <th>Lincoln Park</th>\n",
       "      <td>0.713462</td>\n",
       "    </tr>\n",
       "    <tr>\n",
       "      <th>Athmar Park</th>\n",
       "      <td>1.429173</td>\n",
       "    </tr>\n",
       "    <tr>\n",
       "      <th>Civic Center</th>\n",
       "      <td>0.349409</td>\n",
       "    </tr>\n",
       "    <tr>\n",
       "      <th>City Park West</th>\n",
       "      <td>0.518494</td>\n",
       "    </tr>\n",
       "    <tr>\n",
       "      <th>CBD</th>\n",
       "      <td>0.651027</td>\n",
       "    </tr>\n",
       "    <tr>\n",
       "      <th>Capitol Hill</th>\n",
       "      <td>0.601126</td>\n",
       "    </tr>\n",
       "    <tr>\n",
       "      <th>Westwood</th>\n",
       "      <td>0.715718</td>\n",
       "    </tr>\n",
       "  </tbody>\n",
       "</table>\n",
       "</div>"
      ],
      "text/plain": [
       "                                 0\n",
       "Sunnyside                 0.883904\n",
       "Cheesman Park             0.522927\n",
       "Ruby Hill                 1.186746\n",
       "Jefferson Park            0.641237\n",
       "Villa Park                0.951049\n",
       "Barnum                    1.198883\n",
       "Montbello                 1.414682\n",
       "Stapleton                 2.243899\n",
       "East Colfax               1.140995\n",
       "Five Points               0.921360\n",
       "North Capitol Hill        0.564594\n",
       "Washington Virginia Vale  0.780608\n",
       "Mar Lee                   0.883535\n",
       "Baker                     1.007310\n",
       "West Colfax               1.092558\n",
       "Lincoln Park              0.713462\n",
       "Athmar Park               1.429173\n",
       "Civic Center              0.349409\n",
       "City Park West            0.518494\n",
       "CBD                       0.651027\n",
       "Capitol Hill              0.601126\n",
       "Westwood                  0.715718"
      ]
     },
     "execution_count": 897,
     "metadata": {},
     "output_type": "execute_result"
    }
   ],
   "source": [
    "pd.DataFrame.from_dict(distance_dict, orient='index')"
   ]
  },
  {
   "cell_type": "markdown",
   "metadata": {},
   "source": [
    "### Plot Neighborhoods by Distance"
   ]
  },
  {
   "cell_type": "code",
   "execution_count": 865,
   "metadata": {
    "collapsed": false,
    "deletable": true,
    "editable": true,
    "scrolled": true
   },
   "outputs": [
    {
     "data": {
      "image/png": "[encoded data removed]",
      "text/plain": [
       "<matplotlib.figure.Figure at 0x13f114f50>"
      ]
     },
     "metadata": {},
     "output_type": "display_data"
    }
   ],
   "source": [
    "sort = sorted(distance_dict.iteritems(), key=lambda (k,v): (v,k), reverse=True)\n",
    "#sort = sorted ({key = lambda(k,v):(v, k) for key, val in distance_dict.iteritems()})\n",
    "\n",
    "x, y = zip(*sort)\n",
    "\n",
    "#ax.set_xticklabels(x, rotation=45, rotation_mode=\"anchor\")\n",
    "#ax.set_xticklabels(xlabels, rotation=45, rotation_mode=\"anchor\")\n",
    "\n",
    "figure(num=None, figsize=(24, 16), dpi=80, facecolor='w', edgecolor='k')\n",
    "# locs, labels = plt.xticks() \n",
    "# xticks(ticks, [labels])\n",
    "plt.bar(range(len(x)), y , align='edge', orientation= 'vertical')  \n",
    "plt.xticks(range(len(x)), x) \n",
    "plt.autoscale()\n",
    "\n",
    "plt.show()"
   ]
  }
 ],
 "metadata": {
  "kernelspec": {
   "display_name": "Python 2",
   "language": "python",
   "name": "python2"
  },
  "language_info": {
   "codemirror_mode": {
    "name": "ipython",
    "version": 2
   },
   "file_extension": ".py",
   "mimetype": "text/x-python",
   "name": "python",
   "nbconvert_exporter": "python",
   "pygments_lexer": "ipython2",
   "version": "2.7.10"
  }
 },
 "nbformat": 4,
 "nbformat_minor": 0
}
